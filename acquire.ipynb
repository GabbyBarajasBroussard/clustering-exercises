{
 "cells": [
  {
   "cell_type": "code",
   "execution_count": 1,
   "metadata": {},
   "outputs": [],
   "source": [
    "import pandas as pd\n",
    "import numpy as np\n",
    "import os\n",
    "import env"
   ]
  },
  {
   "cell_type": "code",
   "execution_count": null,
   "metadata": {},
   "outputs": [],
   "source": [
    "# creating a connection to connect to the Codeup Student Database\n",
    "def get_connection(db, user=env.user, host=env.host, password=env.password):\n",
    "    return f'mysql+pymysql://{user}:{password}@{host}/{db}'"
   ]
  },
  {
   "cell_type": "code",
   "execution_count": null,
   "metadata": {},
   "outputs": [],
   "source": [
    "def get_zillow_data():\n",
    "    '''This function will connect to the Codeup Student Database. It will then cache a local copy to the computer to use for later\n",
    "        in the form of a CSV file. If you want to reproduce the results, you will need your own env.py file and database credentials.'''\n",
    "    filename = \"zillow.csv\"\n",
    "    if os.path.isfile(filename):\n",
    "        return pd.read_csv(filename)\n",
    "    else:\n",
    "        # read the SQL query into a dataframe\n",
    "        df = pd.read_sql('''\n",
    "SELECT * FROM properties_2017\n",
    "FULL JOIN airconditioningtype USING (airconditioningtypeid)\n",
    "FULL JOIN architecturalstyletype USING (architecturalstyletypeid)\n",
    "FULL JOIN buildingclasstype USING (buildingclasstypeid)\n",
    "FULL JOIN propertylandusetype USING (propertylandusetypeid)\n",
    "FULL JOIN storytype USING (storytypeid)\n",
    "FULL JOIN typeconstructiontype USING (typeconstructiontypeid)\n",
    "FULL JOIN unique_properties USING (parcelid)\n",
    "WHERE predictions_2017.transcationdate BETWEEN '2017-01-01' AND '2017-12-31'\n",
    ";\n",
    "            ''' , get_connection('zillow'))\n",
    "        # Write that dataframe to disk for later. Called \"caching\" the data for later.\n",
    "        df.to_csv(filename)\n",
    "        # Return the dataframe to the calling code\n",
    "        return df"
   ]
  },
  {
   "cell_type": "code",
   "execution_count": null,
   "metadata": {},
   "outputs": [],
   "source": [
    "def get_mall_data():\n",
    "    '''This function will connect to the Codeup Student Database. It will then cache a local copy to the computer to use for later\n",
    "        in the form of a CSV file. If you want to reproduce the results, you will need your own env.py file and database credentials.'''\n",
    "    filename = \"mall.csv\"\n",
    "    if os.path.isfile(filename):\n",
    "        return pd.read_csv(filename)\n",
    "    else:\n",
    "        # read the SQL query into a dataframe\n",
    "        df = pd.read_sql('''\n",
    "SELECT * FROM customers\n",
    "            ''' , get_connection('mall_customers'))\n",
    "        # Write that dataframe to disk for later. Called \"caching\" the data for later.\n",
    "        df.to_csv(filename)\n",
    "        # Return the dataframe to the calling code\n",
    "        return df"
   ]
  }
 ],
 "metadata": {
  "kernelspec": {
   "display_name": "Python 3",
   "language": "python",
   "name": "python3"
  },
  "language_info": {
   "codemirror_mode": {
    "name": "ipython",
    "version": 3
   },
   "file_extension": ".py",
   "mimetype": "text/x-python",
   "name": "python",
   "nbconvert_exporter": "python",
   "pygments_lexer": "ipython3",
   "version": "3.7.6"
  }
 },
 "nbformat": 4,
 "nbformat_minor": 4
}
