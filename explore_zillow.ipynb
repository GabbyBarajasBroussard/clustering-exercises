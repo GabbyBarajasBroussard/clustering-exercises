{
 "cells": [
  {
   "cell_type": "code",
   "execution_count": 1,
   "metadata": {},
   "outputs": [
    {
     "name": "stdout",
     "output_type": "stream",
     "text": [
      "<class 'pandas.core.frame.DataFrame'>\n",
      "Int64Index: 77575 entries, 0 to 77574\n",
      "Data columns (total 68 columns):\n",
      " #   Column                        Non-Null Count  Dtype  \n",
      "---  ------                        --------------  -----  \n",
      " 0   id                            77575 non-null  int64  \n",
      " 1   parcelid                      77575 non-null  int64  \n",
      " 2   airconditioningtypeid         25006 non-null  float64\n",
      " 3   architecturalstyletypeid      206 non-null    float64\n",
      " 4   basementsqft                  50 non-null     float64\n",
      " 5   bathroomcnt                   77575 non-null  float64\n",
      " 6   bedroomcnt                    77575 non-null  float64\n",
      " 7   buildingclasstypeid           15 non-null     float64\n",
      " 8   buildingqualitytypeid         49809 non-null  float64\n",
      " 9   calculatedbathnbr             76960 non-null  float64\n",
      " 10  decktypeid                    614 non-null    float64\n",
      " 11  finishedfloor1squarefeet      6035 non-null   float64\n",
      " 12  calculatedfinishedsquarefeet  77375 non-null  float64\n",
      " 13  finishedsquarefeet12          73920 non-null  float64\n",
      " 14  finishedsquarefeet13          42 non-null     float64\n",
      " 15  finishedsquarefeet15          3027 non-null   float64\n",
      " 16  finishedsquarefeet50          6035 non-null   float64\n",
      " 17  finishedsquarefeet6           386 non-null    float64\n",
      " 18  fips                          77575 non-null  float64\n",
      " 19  fireplacecnt                  8287 non-null   float64\n",
      " 20  fullbathcnt                   76960 non-null  float64\n",
      " 21  garagecarcnt                  25517 non-null  float64\n",
      " 22  garagetotalsqft               25517 non-null  float64\n",
      " 23  hashottuborspa                1539 non-null   float64\n",
      " 24  heatingorsystemtypeid         49570 non-null  float64\n",
      " 25  latitude                      77575 non-null  float64\n",
      " 26  longitude                     77575 non-null  float64\n",
      " 27  lotsizesquarefeet             69318 non-null  float64\n",
      " 28  poolcnt                       16173 non-null  float64\n",
      " 29  poolsizesum                   869 non-null    float64\n",
      " 30  pooltypeid10                  465 non-null    float64\n",
      " 31  pooltypeid2                   1074 non-null   float64\n",
      " 32  pooltypeid7                   15078 non-null  float64\n",
      " 33  propertycountylandusecode     77575 non-null  object \n",
      " 34  propertylandusetypeid         77575 non-null  float64\n",
      " 35  propertyzoningdesc            50475 non-null  object \n",
      " 36  rawcensustractandblock        77575 non-null  float64\n",
      " 37  regionidcity                  76103 non-null  float64\n",
      " 38  regionidcounty                77575 non-null  float64\n",
      " 39  regionidneighborhood          30973 non-null  float64\n",
      " 40  regionidzip                   77525 non-null  float64\n",
      " 41  roomcnt                       77575 non-null  float64\n",
      " 42  storytypeid                   50 non-null     float64\n",
      " 43  threequarterbathnbr           10105 non-null  float64\n",
      " 44  typeconstructiontypeid        222 non-null    float64\n",
      " 45  unitcnt                       50703 non-null  float64\n",
      " 46  yardbuildingsqft17            2393 non-null   float64\n",
      " 47  yardbuildingsqft26            70 non-null     float64\n",
      " 48  yearbuilt                     77306 non-null  float64\n",
      " 49  numberofstories               17596 non-null  float64\n",
      " 50  fireplaceflag                 172 non-null    float64\n",
      " 51  structuretaxvaluedollarcnt    77460 non-null  float64\n",
      " 52  taxvaluedollarcnt             77574 non-null  float64\n",
      " 53  assessmentyear                77575 non-null  float64\n",
      " 54  landtaxvaluedollarcnt         77573 non-null  float64\n",
      " 55  taxamount                     77570 non-null  float64\n",
      " 56  taxdelinquencyflag            2900 non-null   object \n",
      " 57  taxdelinquencyyear            2900 non-null   float64\n",
      " 58  censustractandblock           77328 non-null  float64\n",
      " 59  logerror                      77575 non-null  float64\n",
      " 60  transactiondate               77575 non-null  object \n",
      " 61  airconditioningdesc           25006 non-null  object \n",
      " 62  architecturalstyledesc        206 non-null    object \n",
      " 63  buildingclassdesc             15 non-null     object \n",
      " 64  heatingorsystemdesc           49570 non-null  object \n",
      " 65  propertylandusedesc           77575 non-null  object \n",
      " 66  storydesc                     50 non-null     object \n",
      " 67  typeconstructiondesc          222 non-null    object \n",
      "dtypes: float64(55), int64(2), object(11)\n",
      "memory usage: 40.8+ MB\n"
     ]
    }
   ],
   "source": [
    "# ignore warnings\n",
    "import warnings\n",
    "warnings.filterwarnings(\"ignore\")\n",
    "\n",
    "# Wrangling\n",
    "import pandas as pd\n",
    "import numpy as np\n",
    "from wrangle_zillow import wrangle_zillow\n",
    "\n",
    "# Statistical Tests\n",
    "import scipy.stats as stats\n",
    "\n",
    "# Visualizing\n",
    "import matplotlib.pyplot as plt\n",
    "from matplotlib import cm\n",
    "import seaborn as sns\n",
    "from sklearn.model_selection import learning_curve\n",
    "\n",
    "\n",
    "pd.options.display.float_format = '{:20,.2f}'.format\n",
    "pd.set_option('display.max_columns', 80)"
   ]
  },
  {
   "cell_type": "markdown",
   "metadata": {},
   "source": [
    "Sourcing the Zillow database as the data source, create a jupyter notebook named explore_zillow and do the following:"
   ]
  },
  {
   "cell_type": "code",
   "execution_count": 2,
   "metadata": {},
   "outputs": [],
   "source": [
    "df= wrangle_zillow()"
   ]
  },
  {
   "cell_type": "code",
   "execution_count": 3,
   "metadata": {},
   "outputs": [],
   "source": [
    "from sklearn.model_selection import train_test_split\n",
    "def split_zillow(df):\n",
    "    # split dataset\n",
    "    train_validate, test = train_test_split(df, test_size = .2, random_state = 123)\n",
    "    train, validate = train_test_split(train_validate, test_size = .3, random_state = 123)\n",
    "    return train, validate, test    "
   ]
  },
  {
   "cell_type": "code",
   "execution_count": 4,
   "metadata": {},
   "outputs": [
    {
     "data": {
      "text/plain": [
       "((39048, 25), (16736, 25), (13946, 25))"
      ]
     },
     "execution_count": 4,
     "metadata": {},
     "output_type": "execute_result"
    }
   ],
   "source": [
    "train, validate, test  = split_zillow(df)\n",
    "train.shape, validate.shape, test.shape"
   ]
  },
  {
   "cell_type": "markdown",
   "metadata": {},
   "source": [
    "Ask at least 5 questions about the data, keeping in mind that your target variable is logerror. e.g. Is logerror significantly different for properties in LA County vs Orange County vs Ventura County?"
   ]
  },
  {
   "cell_type": "markdown",
   "metadata": {},
   "source": [
    "<i>\n",
    "    <ol> \n",
    "<li> Does log error differ between the 3 counties?\n",
    "<li> Do houses with more than 3 bedrooms have a higher log error than those with less than three.\n",
    "<li> Do houses built before 1970 have a lower log error than houses built after 1970?\n",
    "<li> Do houses with over 2500 square feet have a higher log error than those with less than 2500 square feet?\n",
    "<li> Do single family residental homes have a higher log error than non single family residental homes?\n",
    "    </ol></i>"
   ]
  },
  {
   "cell_type": "code",
   "execution_count": 5,
   "metadata": {},
   "outputs": [
    {
     "data": {
      "text/html": [
       "<div>\n",
       "<style scoped>\n",
       "    .dataframe tbody tr th:only-of-type {\n",
       "        vertical-align: middle;\n",
       "    }\n",
       "\n",
       "    .dataframe tbody tr th {\n",
       "        vertical-align: top;\n",
       "    }\n",
       "\n",
       "    .dataframe thead th {\n",
       "        text-align: right;\n",
       "    }\n",
       "</style>\n",
       "<table border=\"1\" class=\"dataframe\">\n",
       "  <thead>\n",
       "    <tr style=\"text-align: right;\">\n",
       "      <th></th>\n",
       "      <th>parcelid</th>\n",
       "      <th>bathroomcnt</th>\n",
       "      <th>bedroomcnt</th>\n",
       "      <th>buildingqualitytypeid</th>\n",
       "      <th>calculatedfinishedsquarefeet</th>\n",
       "      <th>fips</th>\n",
       "      <th>latitude</th>\n",
       "      <th>longitude</th>\n",
       "      <th>lotsizesquarefeet</th>\n",
       "      <th>rawcensustractandblock</th>\n",
       "      <th>regionidcity</th>\n",
       "      <th>regionidcounty</th>\n",
       "      <th>regionidzip</th>\n",
       "      <th>roomcnt</th>\n",
       "      <th>unitcnt</th>\n",
       "      <th>yearbuilt</th>\n",
       "      <th>structuretaxvaluedollarcnt</th>\n",
       "      <th>taxvaluedollarcnt</th>\n",
       "      <th>assessmentyear</th>\n",
       "      <th>landtaxvaluedollarcnt</th>\n",
       "      <th>taxamount</th>\n",
       "      <th>logerror</th>\n",
       "      <th>transactiondate</th>\n",
       "      <th>heatingorsystemdesc</th>\n",
       "      <th>county</th>\n",
       "    </tr>\n",
       "  </thead>\n",
       "  <tbody>\n",
       "    <tr>\n",
       "      <th>24367</th>\n",
       "      <td>11769189</td>\n",
       "      <td>2.00</td>\n",
       "      <td>4.00</td>\n",
       "      <td>5.00</td>\n",
       "      <td>1,124.00</td>\n",
       "      <td>6037</td>\n",
       "      <td>34,006,378.00</td>\n",
       "      <td>-118,251,866.00</td>\n",
       "      <td>5,102.00</td>\n",
       "      <td>60,372,282.20</td>\n",
       "      <td>95992</td>\n",
       "      <td>95992</td>\n",
       "      <td>95992</td>\n",
       "      <td>0.00</td>\n",
       "      <td>1.00</td>\n",
       "      <td>1911</td>\n",
       "      <td>28,248.00</td>\n",
       "      <td>65,538.00</td>\n",
       "      <td>2016</td>\n",
       "      <td>37,290.00</td>\n",
       "      <td>4,098.72</td>\n",
       "      <td>0.06</td>\n",
       "      <td>2017-01-19</td>\n",
       "      <td>Floor/Wall</td>\n",
       "      <td>Los_Angeles</td>\n",
       "    </tr>\n",
       "    <tr>\n",
       "      <th>13187</th>\n",
       "      <td>11214573</td>\n",
       "      <td>2.00</td>\n",
       "      <td>4.00</td>\n",
       "      <td>8.00</td>\n",
       "      <td>2,418.00</td>\n",
       "      <td>6037</td>\n",
       "      <td>34,577,930.00</td>\n",
       "      <td>-118,022,815.00</td>\n",
       "      <td>6,999.00</td>\n",
       "      <td>60,379,107.05</td>\n",
       "      <td>97330</td>\n",
       "      <td>97330</td>\n",
       "      <td>97330</td>\n",
       "      <td>0.00</td>\n",
       "      <td>1.00</td>\n",
       "      <td>2005</td>\n",
       "      <td>126,184.00</td>\n",
       "      <td>157,726.00</td>\n",
       "      <td>2016</td>\n",
       "      <td>31,542.00</td>\n",
       "      <td>3,302.59</td>\n",
       "      <td>-0.01</td>\n",
       "      <td>2017-03-30</td>\n",
       "      <td>Central</td>\n",
       "      <td>Los_Angeles</td>\n",
       "    </tr>\n",
       "    <tr>\n",
       "      <th>2687</th>\n",
       "      <td>10810570</td>\n",
       "      <td>3.00</td>\n",
       "      <td>3.00</td>\n",
       "      <td>8.00</td>\n",
       "      <td>1,920.00</td>\n",
       "      <td>6037</td>\n",
       "      <td>34,150,648.00</td>\n",
       "      <td>-118,594,405.00</td>\n",
       "      <td>6,159.00</td>\n",
       "      <td>60,371,380.00</td>\n",
       "      <td>96387</td>\n",
       "      <td>96387</td>\n",
       "      <td>96387</td>\n",
       "      <td>0.00</td>\n",
       "      <td>1.00</td>\n",
       "      <td>1963</td>\n",
       "      <td>203,794.00</td>\n",
       "      <td>543,297.00</td>\n",
       "      <td>2016</td>\n",
       "      <td>339,503.00</td>\n",
       "      <td>6,615.05</td>\n",
       "      <td>-0.04</td>\n",
       "      <td>2017-02-01</td>\n",
       "      <td>Central</td>\n",
       "      <td>Los_Angeles</td>\n",
       "    </tr>\n",
       "    <tr>\n",
       "      <th>43357</th>\n",
       "      <td>12739068</td>\n",
       "      <td>2.00</td>\n",
       "      <td>3.00</td>\n",
       "      <td>6.00</td>\n",
       "      <td>1,540.00</td>\n",
       "      <td>6037</td>\n",
       "      <td>33,916,099.00</td>\n",
       "      <td>-118,015,323.00</td>\n",
       "      <td>6,386.00</td>\n",
       "      <td>60,375,040.01</td>\n",
       "      <td>96190</td>\n",
       "      <td>96190</td>\n",
       "      <td>96190</td>\n",
       "      <td>0.00</td>\n",
       "      <td>1.00</td>\n",
       "      <td>1959</td>\n",
       "      <td>51,125.00</td>\n",
       "      <td>83,614.00</td>\n",
       "      <td>2016</td>\n",
       "      <td>32,489.00</td>\n",
       "      <td>1,339.32</td>\n",
       "      <td>0.01</td>\n",
       "      <td>2017-08-24</td>\n",
       "      <td>Central</td>\n",
       "      <td>Los_Angeles</td>\n",
       "    </tr>\n",
       "    <tr>\n",
       "      <th>31528</th>\n",
       "      <td>12144843</td>\n",
       "      <td>3.00</td>\n",
       "      <td>3.00</td>\n",
       "      <td>8.00</td>\n",
       "      <td>1,721.00</td>\n",
       "      <td>6037</td>\n",
       "      <td>34,111,932.00</td>\n",
       "      <td>-118,050,371.00</td>\n",
       "      <td>10,845.00</td>\n",
       "      <td>60,374,316.00</td>\n",
       "      <td>96268</td>\n",
       "      <td>96268</td>\n",
       "      <td>96268</td>\n",
       "      <td>0.00</td>\n",
       "      <td>1.00</td>\n",
       "      <td>1958</td>\n",
       "      <td>61,897.00</td>\n",
       "      <td>101,015.00</td>\n",
       "      <td>2016</td>\n",
       "      <td>39,118.00</td>\n",
       "      <td>1,369.10</td>\n",
       "      <td>0.05</td>\n",
       "      <td>2017-05-25</td>\n",
       "      <td>Central</td>\n",
       "      <td>Los_Angeles</td>\n",
       "    </tr>\n",
       "  </tbody>\n",
       "</table>\n",
       "</div>"
      ],
      "text/plain": [
       "       parcelid          bathroomcnt           bedroomcnt  \\\n",
       "24367  11769189                 2.00                 4.00   \n",
       "13187  11214573                 2.00                 4.00   \n",
       "2687   10810570                 3.00                 3.00   \n",
       "43357  12739068                 2.00                 3.00   \n",
       "31528  12144843                 3.00                 3.00   \n",
       "\n",
       "       buildingqualitytypeid  calculatedfinishedsquarefeet  fips  \\\n",
       "24367                   5.00                      1,124.00  6037   \n",
       "13187                   8.00                      2,418.00  6037   \n",
       "2687                    8.00                      1,920.00  6037   \n",
       "43357                   6.00                      1,540.00  6037   \n",
       "31528                   8.00                      1,721.00  6037   \n",
       "\n",
       "                  latitude            longitude    lotsizesquarefeet  \\\n",
       "24367        34,006,378.00      -118,251,866.00             5,102.00   \n",
       "13187        34,577,930.00      -118,022,815.00             6,999.00   \n",
       "2687         34,150,648.00      -118,594,405.00             6,159.00   \n",
       "43357        33,916,099.00      -118,015,323.00             6,386.00   \n",
       "31528        34,111,932.00      -118,050,371.00            10,845.00   \n",
       "\n",
       "       rawcensustractandblock  regionidcity  regionidcounty  regionidzip  \\\n",
       "24367           60,372,282.20         95992           95992        95992   \n",
       "13187           60,379,107.05         97330           97330        97330   \n",
       "2687            60,371,380.00         96387           96387        96387   \n",
       "43357           60,375,040.01         96190           96190        96190   \n",
       "31528           60,374,316.00         96268           96268        96268   \n",
       "\n",
       "                   roomcnt              unitcnt  yearbuilt  \\\n",
       "24367                 0.00                 1.00       1911   \n",
       "13187                 0.00                 1.00       2005   \n",
       "2687                  0.00                 1.00       1963   \n",
       "43357                 0.00                 1.00       1959   \n",
       "31528                 0.00                 1.00       1958   \n",
       "\n",
       "       structuretaxvaluedollarcnt    taxvaluedollarcnt  assessmentyear  \\\n",
       "24367                   28,248.00            65,538.00            2016   \n",
       "13187                  126,184.00           157,726.00            2016   \n",
       "2687                   203,794.00           543,297.00            2016   \n",
       "43357                   51,125.00            83,614.00            2016   \n",
       "31528                   61,897.00           101,015.00            2016   \n",
       "\n",
       "       landtaxvaluedollarcnt            taxamount             logerror  \\\n",
       "24367              37,290.00             4,098.72                 0.06   \n",
       "13187              31,542.00             3,302.59                -0.01   \n",
       "2687              339,503.00             6,615.05                -0.04   \n",
       "43357              32,489.00             1,339.32                 0.01   \n",
       "31528              39,118.00             1,369.10                 0.05   \n",
       "\n",
       "      transactiondate heatingorsystemdesc       county  \n",
       "24367      2017-01-19          Floor/Wall  Los_Angeles  \n",
       "13187      2017-03-30             Central  Los_Angeles  \n",
       "2687       2017-02-01             Central  Los_Angeles  \n",
       "43357      2017-08-24             Central  Los_Angeles  \n",
       "31528      2017-05-25             Central  Los_Angeles  "
      ]
     },
     "execution_count": 5,
     "metadata": {},
     "output_type": "execute_result"
    }
   ],
   "source": [
    "train.head()"
   ]
  },
  {
   "cell_type": "code",
   "execution_count": 17,
   "metadata": {},
   "outputs": [
    {
     "data": {
      "text/plain": [
       "1878"
      ]
     },
     "execution_count": 17,
     "metadata": {},
     "output_type": "execute_result"
    }
   ],
   "source": [
    "df.yearbuilt.min()"
   ]
  },
  {
   "cell_type": "code",
   "execution_count": 20,
   "metadata": {},
   "outputs": [],
   "source": [
    "def get_decade(yearbuilt):\n",
    "    if yearbuilt >=1870 and yearbuilt <=1879:\n",
    "        return '1870s'\n",
    "    elif yearbuilt >=1880 and yearbuilt <=1889:\n",
    "        return '1880s'\n",
    "    elif yearbuilt >=1890 and yearbuilt <=1899:\n",
    "        return '1890s'\n",
    "    elif yearbuilt >=1900 and yearbuilt <=1909:\n",
    "        return '1900s'\n",
    "    elif yearbuilt >=1910 and yearbuilt <=1919:\n",
    "        return '1910s'\n",
    "    elif yearbuilt >=1920 and yearbuilt <=1929:\n",
    "        return '1920s'\n",
    "    elif yearbuilt >=1930 and yearbuilt <=1939:\n",
    "        return '1930s'\n",
    "    elif yearbuilt >=1940 and yearbuilt <=1949:\n",
    "        return '1940s'\n",
    "    elif yearbuilt >=1950 and yearbuilt <=1959:\n",
    "        return '1950s'\n",
    "    elif yearbuilt >=1960 and yearbuilt <=1969:\n",
    "        return '1960s'\n",
    "    elif yearbuilt >=1970 and yearbuilt <=1979:\n",
    "        return '1970s'\n",
    "    elif yearbuilt >=1980 and yearbuilt <=1989:\n",
    "        return '1980s'\n",
    "    elif yearbuilt >=1990 and yearbuilt <=1999:\n",
    "        return '1990s'\n",
    "    elif yearbuilt >=2000 and yearbuilt <= 2009:\n",
    "        return '2000s'\n",
    "    elif yearbuilt >= 2010 and yearbuilt <=2019:\n",
    "        return '2010s'\n",
    "    \n",
    "train['decade_built'] = train.yearbuilt.apply(get_decade)"
   ]
  },
  {
   "cell_type": "code",
   "execution_count": 7,
   "metadata": {},
   "outputs": [
    {
     "data": {
      "image/png": "[encoded data removed]",
      "text/plain": [
       "<Figure size 1152x504 with 1 Axes>"
      ]
     },
     "metadata": {
      "needs_background": "light"
     },
     "output_type": "display_data"
    }
   ],
   "source": [
    "plt.figure(figsize=(16, 7))\n",
    "sns.boxplot(data = train, x='county', y='logerror')\n",
    "plt.title('Is logerror significantly different for properties in LA County vs Orange County vs Ventura County?')\n",
    "plt.show()\n"
   ]
  },
  {
   "cell_type": "markdown",
   "metadata": {},
   "source": [
    "<b> Takeaway: </b> <i> There seems to be no difference in logerror for properties in each county but los angeles county seems to have more outliers."
   ]
  },
  {
   "cell_type": "code",
   "execution_count": 11,
   "metadata": {},
   "outputs": [
    {
     "data": {
      "image/png": "[encoded data removed]",
      "text/plain": [
       "<Figure size 1152x504 with 1 Axes>"
      ]
     },
     "metadata": {
      "needs_background": "light"
     },
     "output_type": "display_data"
    }
   ],
   "source": [
    "plt.figure(figsize=(16, 7))\n",
    "sns.violinplot(data = train, x='bedroomcnt', y='logerror')\n",
    "plt.title('Is logerror significantly different for properties with more than 3 bedrooms?')\n",
    "plt.show()\n"
   ]
  },
  {
   "cell_type": "code",
   "execution_count": 22,
   "metadata": {},
   "outputs": [
    {
     "data": {
      "image/png": "[encoded data removed]",
      "text/plain": [
       "<Figure size 1152x504 with 1 Axes>"
      ]
     },
     "metadata": {
      "needs_background": "light"
     },
     "output_type": "display_data"
    }
   ],
   "source": [
    "plt.figure(figsize=(16, 7))\n",
    "sns.violinplot(data = train, x='decade_built', y='logerror')\n",
    "plt.title('Is logerror significantly different for properties with more than 3 bedrooms?')\n",
    "plt.show()"
   ]
  },
  {
   "cell_type": "markdown",
   "metadata": {},
   "source": [
    "Answer those questions through a mix of statistical tests and visualizations."
   ]
  },
  {
   "cell_type": "code",
   "execution_count": null,
   "metadata": {},
   "outputs": [],
   "source": []
  },
  {
   "cell_type": "markdown",
   "metadata": {},
   "source": [
    "Bonus:\n",
    "\n",
    "Compute the mean(logerror) by zipcode and the overall mean(logerror). Write a loop that will run a t-test between the overall mean and the mean for each zip code. We want to identify the zip codes where the error is significantly higher or lower than the expected error."
   ]
  }
 ],
 "metadata": {
  "kernelspec": {
   "display_name": "Python 3",
   "language": "python",
   "name": "python3"
  },
  "language_info": {
   "codemirror_mode": {
    "name": "ipython",
    "version": 3
   },
   "file_extension": ".py",
   "mimetype": "text/x-python",
   "name": "python",
   "nbconvert_exporter": "python",
   "pygments_lexer": "ipython3",
   "version": "3.7.6"
  }
 },
 "nbformat": 4,
 "nbformat_minor": 4
}
